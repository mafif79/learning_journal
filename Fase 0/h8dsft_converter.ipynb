{
 "cells": [
  {
   "cell_type": "markdown",
   "metadata": {},
   "source": [
    "Non Graded Challeng 2"
   ]
  },
  {
   "cell_type": "code",
   "execution_count": null,
   "metadata": {},
   "outputs": [],
   "source": [
    "#Buatlah sebuah function yang dapat mengkonversi suhu dari kelvin ke celcius, dan celcius ke kelvin.\n",
    "#Buatlah sebuah function yang dapat mengkonversi suhu ke fahrenheit. Tambahkan parameter untuk memastikan bahwa argumen yang dimasukan adalah celcius atau kelvin. Panggil function yang pertama jika diperlukan\n",
    "#Buatlah sebuah function yang dapat mengkonversi suhu dari fahrenheit. Berikan argumen untuk memastikan bahwa outputnya dalah celcius atau kelvin\n",
    "#Berikan dokumentasi pada setiap baris kode yang kalian tulis.\n"
   ]
  },
  {
   "cell_type": "code",
   "execution_count": 5,
   "metadata": {},
   "outputs": [],
   "source": [
    "import numpy as np"
   ]
  },
  {
   "cell_type": "code",
   "execution_count": 3,
   "metadata": {},
   "outputs": [],
   "source": [
    "#celsius ke kelvin\n",
    "celsius = 50\n",
    "Kelvin = celsius + 273\n",
    "def suhu_kelvin(K):\n",
    "    return Kelvin"
   ]
  },
  {
   "cell_type": "code",
   "execution_count": 4,
   "metadata": {},
   "outputs": [
    {
     "data": {
      "text/plain": [
       "323"
      ]
     },
     "execution_count": 4,
     "metadata": {},
     "output_type": "execute_result"
    }
   ],
   "source": [
    "suhu_kelvin(Kelvin)"
   ]
  },
  {
   "cell_type": "code",
   "execution_count": 7,
   "metadata": {},
   "outputs": [
    {
     "name": "stdout",
     "output_type": "stream",
     "text": [
      "Suhu Kelvin adalah 323\n"
     ]
    }
   ],
   "source": [
    "celsius = 50\n",
    "Kelvin = celsius + 273\n",
    "def suhu_kelvin(K):\n",
    "    print(\"Suhu Kelvin adalah\", K)\n",
    "\n",
    "suhu_kelvin(Kelvin)"
   ]
  },
  {
   "cell_type": "code",
   "execution_count": 5,
   "metadata": {},
   "outputs": [],
   "source": [
    "#kelvin ke celsius\n",
    "Kelvin = 300\n",
    "Celsius = Kelvin - 273\n",
    "def suhu_celsius(C):\n",
    "    return Celsius"
   ]
  },
  {
   "cell_type": "code",
   "execution_count": 6,
   "metadata": {},
   "outputs": [
    {
     "data": {
      "text/plain": [
       "27"
      ]
     },
     "execution_count": 6,
     "metadata": {},
     "output_type": "execute_result"
    }
   ],
   "source": [
    "suhu_celsius(Celsius)"
   ]
  },
  {
   "cell_type": "code",
   "execution_count": 2,
   "metadata": {},
   "outputs": [
    {
     "name": "stdout",
     "output_type": "stream",
     "text": [
      "Suhu Celsius adalah 27\n"
     ]
    }
   ],
   "source": [
    "Kelvin = 300\n",
    "Celsius = Kelvin - 273\n",
    "def suhu_celsius(C):\n",
    "    print(\"Suhu Celsius adalah\", C)\n",
    "\n",
    "suhu_celsius(Celsius)"
   ]
  },
  {
   "cell_type": "code",
   "execution_count": 4,
   "metadata": {},
   "outputs": [
    {
     "data": {
      "text/plain": [
       "86.0"
      ]
     },
     "execution_count": 4,
     "metadata": {},
     "output_type": "execute_result"
    }
   ],
   "source": [
    "#Celsius ke Fahrenhait\n",
    "Celsius = 30\n",
    "Fahrenhait = (9*Celsius + (32*5))/5\n",
    "def suhu_fahrenhait(F):\n",
    "     return Fahrenhait\n",
    "\n",
    "suhu_fahrenhait(Fahrenhait)"
   ]
  },
  {
   "cell_type": "code",
   "execution_count": 7,
   "metadata": {},
   "outputs": [
    {
     "name": "stdout",
     "output_type": "stream",
     "text": [
      "Suhu Fahrenhait adalah 86.0\n"
     ]
    }
   ],
   "source": [
    "\n",
    "Celsius = 30\n",
    "Fahrenhait = (9*Celsius + (32*5))/5\n",
    "def suhu_fahrenhait(F):\n",
    "     print(\"Suhu Fahrenhait adalah\", F) \n",
    "\n",
    "suhu_fahrenhait(Fahrenhait)"
   ]
  },
  {
   "cell_type": "code",
   "execution_count": 9,
   "metadata": {},
   "outputs": [
    {
     "data": {
      "text/plain": [
       "37.77777777777778"
      ]
     },
     "execution_count": 9,
     "metadata": {},
     "output_type": "execute_result"
    }
   ],
   "source": [
    "#Fahrenhait ke Celsius\n",
    "Fahrenhait= 100\n",
    "Celsius = (5*(Fahrenhait-32))/9\n",
    "def suhu_celsius(C):\n",
    "     return Celsius\n",
    "\n",
    "suhu_celsius(Celsius)"
   ]
  },
  {
   "cell_type": "code",
   "execution_count": 11,
   "metadata": {},
   "outputs": [
    {
     "name": "stdout",
     "output_type": "stream",
     "text": [
      "Suhu Celsius adalah 37.77777777777778\n"
     ]
    }
   ],
   "source": [
    "Fahrenhait= 100\n",
    "Celsius = (5*(Fahrenhait-32))/9\n",
    "def suhu_celsius(C):\n",
    "     print(\"Suhu Celsius adalah\", C)\n",
    "\n",
    "suhu_celsius(Celsius)"
   ]
  }
 ],
 "metadata": {
  "interpreter": {
   "hash": "eb3224cf46f1f2883013ca6576c881ca97fafeff9e390defea098bf29512bff1"
  },
  "kernelspec": {
   "display_name": "Python 3.10.2 64-bit",
   "language": "python",
   "name": "python3"
  },
  "language_info": {
   "codemirror_mode": {
    "name": "ipython",
    "version": 3
   },
   "file_extension": ".py",
   "mimetype": "text/x-python",
   "name": "python",
   "nbconvert_exporter": "python",
   "pygments_lexer": "ipython3",
   "version": "3.9.7"
  },
  "orig_nbformat": 4
 },
 "nbformat": 4,
 "nbformat_minor": 2
}
