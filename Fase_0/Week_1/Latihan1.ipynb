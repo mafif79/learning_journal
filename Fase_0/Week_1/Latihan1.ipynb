{
 "cells": [
  {
   "cell_type": "markdown",
   "metadata": {},
   "source": [
    "Latihan 1\n",
    "Muhamad Afif Thufail"
   ]
  },
  {
   "cell_type": "code",
   "execution_count": 10,
   "metadata": {},
   "outputs": [
    {
     "name": "stdout",
     "output_type": "stream",
     "text": [
      "Hello World\n"
     ]
    }
   ],
   "source": [
    "print(\"Hello World\")"
   ]
  },
  {
   "cell_type": "code",
   "execution_count": 11,
   "metadata": {},
   "outputs": [
    {
     "name": "stdout",
     "output_type": "stream",
     "text": [
      "10\n",
      "<class 'int'>\n"
     ]
    }
   ],
   "source": [
    "#Tipe data integer\n",
    "#Integer tidak ada koma atau desimal\n",
    "print(10)\n",
    "print(type(10))"
   ]
  },
  {
   "cell_type": "code",
   "execution_count": 13,
   "metadata": {},
   "outputs": [
    {
     "name": "stdout",
     "output_type": "stream",
     "text": [
      "1.2\n",
      "0.2\n",
      "30.0\n",
      "<class 'float'>\n",
      "<class 'float'>\n",
      "<class 'float'>\n"
     ]
    }
   ],
   "source": [
    "#Tipe Data Float\n",
    "print(1.2)\n",
    "print(.2)\n",
    "print(.3e2)\n",
    "print(type(1.2))\n",
    "print(type(.2))\n",
    "print(type(.3e2))"
   ]
  },
  {
   "cell_type": "code",
   "execution_count": 14,
   "metadata": {},
   "outputs": [
    {
     "name": "stdout",
     "output_type": "stream",
     "text": [
      "Mama\n",
      "<class 'str'>\n"
     ]
    }
   ],
   "source": [
    "#Tipe Data String\n",
    "print(\"Mama\")\n",
    "print(type(\"Mama\"))"
   ]
  },
  {
   "cell_type": "code",
   "execution_count": 15,
   "metadata": {},
   "outputs": [
    {
     "name": "stdout",
     "output_type": "stream",
     "text": [
      "5\n"
     ]
    }
   ],
   "source": [
    "print(3+2)"
   ]
  },
  {
   "cell_type": "code",
   "execution_count": 19,
   "metadata": {},
   "outputs": [
    {
     "name": "stdout",
     "output_type": "stream",
     "text": [
      "7.5\n"
     ]
    }
   ],
   "source": [
    "x = 5\n",
    "y = 2.5\n",
    "print(x+y)"
   ]
  },
  {
   "cell_type": "code",
   "execution_count": 20,
   "metadata": {},
   "outputs": [
    {
     "ename": "TypeError",
     "evalue": "can only concatenate str (not \"int\") to str",
     "output_type": "error",
     "traceback": [
      "\u001b[1;31m---------------------------------------------------------------------------\u001b[0m",
      "\u001b[1;31mTypeError\u001b[0m                                 Traceback (most recent call last)",
      "\u001b[1;32mc:\\Users\\Muhamad Afif\\Documents\\Hacktiv8\\Basic Python\\Latihan1.ipynb Cell 8'\u001b[0m in \u001b[0;36m<cell line: 4>\u001b[1;34m()\u001b[0m\n\u001b[0;32m      <a href='vscode-notebook-cell:/c%3A/Users/Muhamad%20Afif/Documents/Hacktiv8/Basic%20Python/Latihan1.ipynb#ch0000016?line=0'>1</a>\u001b[0m \u001b[39m#Menghubungkan dua variabel harus menggunakan tipe data yang sama\u001b[39;00m\n\u001b[0;32m      <a href='vscode-notebook-cell:/c%3A/Users/Muhamad%20Afif/Documents/Hacktiv8/Basic%20Python/Latihan1.ipynb#ch0000016?line=1'>2</a>\u001b[0m \u001b[39m#Contoh penjumlahan dengan type data yang berbeda\u001b[39;00m\n\u001b[1;32m----> <a href='vscode-notebook-cell:/c%3A/Users/Muhamad%20Afif/Documents/Hacktiv8/Basic%20Python/Latihan1.ipynb#ch0000016?line=3'>4</a>\u001b[0m \u001b[39mprint\u001b[39m(\u001b[39m\"\u001b[39;49m\u001b[39mJono\u001b[39;49m\u001b[39m\"\u001b[39;49m \u001b[39m+\u001b[39;49m \u001b[39m5\u001b[39;49m)\n",
      "\u001b[1;31mTypeError\u001b[0m: can only concatenate str (not \"int\") to str"
     ]
    }
   ],
   "source": [
    "#Menghubungkan dua variabel harus menggunakan tipe data yang sama\n",
    "#Contoh penjumlahan dengan type data yang berbeda\n",
    "\n",
    "print(\"Jono\" + 5)"
   ]
  },
  {
   "cell_type": "code",
   "execution_count": 21,
   "metadata": {},
   "outputs": [
    {
     "name": "stdout",
     "output_type": "stream",
     "text": [
      "Jono 5\n"
     ]
    }
   ],
   "source": [
    "#Seharusnya\n",
    "print(\"Jono\" + \" 5\")"
   ]
  },
  {
   "cell_type": "code",
   "execution_count": 28,
   "metadata": {},
   "outputs": [
    {
     "name": "stdout",
     "output_type": "stream",
     "text": [
      "Hello \n",
      "World\n"
     ]
    }
   ],
   "source": [
    "print (\"Hello \\nWorld\")"
   ]
  },
  {
   "cell_type": "code",
   "execution_count": 31,
   "metadata": {},
   "outputs": [
    {
     "name": "stdout",
     "output_type": "stream",
     "text": [
      "Hello \n",
      "World\n"
     ]
    }
   ],
   "source": [
    "print('''Hello \n",
    "World''')"
   ]
  },
  {
   "cell_type": "markdown",
   "metadata": {},
   "source": [
    "Membulatkan Bilangan\n",
    "Menggunakan \"Round\""
   ]
  },
  {
   "cell_type": "code",
   "execution_count": 32,
   "metadata": {},
   "outputs": [
    {
     "name": "stdout",
     "output_type": "stream",
     "text": [
      "4\n"
     ]
    }
   ],
   "source": [
    "x = round (3.79)\n",
    "print(x)"
   ]
  },
  {
   "cell_type": "code",
   "execution_count": 33,
   "metadata": {},
   "outputs": [
    {
     "name": "stdout",
     "output_type": "stream",
     "text": [
      "3.71\n"
     ]
    }
   ],
   "source": [
    "x = round (3.7123,2)\n",
    "print(x)"
   ]
  },
  {
   "cell_type": "code",
   "execution_count": 35,
   "metadata": {},
   "outputs": [
    {
     "name": "stdout",
     "output_type": "stream",
     "text": [
      "2.7\n"
     ]
    }
   ],
   "source": [
    "x = round(2.67,1)\n",
    "print(x)"
   ]
  },
  {
   "cell_type": "code",
   "execution_count": 36,
   "metadata": {},
   "outputs": [
    {
     "name": "stdout",
     "output_type": "stream",
     "text": [
      "3\n"
     ]
    }
   ],
   "source": [
    "x = 3.87\n",
    "print(int(x))"
   ]
  },
  {
   "cell_type": "code",
   "execution_count": 38,
   "metadata": {},
   "outputs": [
    {
     "name": "stdout",
     "output_type": "stream",
     "text": [
      "3\n",
      "<class 'int'>\n"
     ]
    }
   ],
   "source": [
    "x=round(3.22)\n",
    "print(x)\n",
    "print(type(x))"
   ]
  },
  {
   "cell_type": "markdown",
   "metadata": {},
   "source": [
    "Penamaan Variabel"
   ]
  },
  {
   "cell_type": "code",
   "execution_count": 37,
   "metadata": {},
   "outputs": [
    {
     "ename": "SyntaxError",
     "evalue": "invalid decimal literal (938633025.py, line 4)",
     "output_type": "error",
     "traceback": [
      "\u001b[1;36m  Input \u001b[1;32mIn [37]\u001b[1;36m\u001b[0m\n\u001b[1;33m    3var = 3 #tidak boleh diawali dengan angka\u001b[0m\n\u001b[1;37m    ^\u001b[0m\n\u001b[1;31mSyntaxError\u001b[0m\u001b[1;31m:\u001b[0m invalid decimal literal\n"
     ]
    }
   ],
   "source": [
    "Yang dibolehkan\n",
    "_x = 3\n",
    "var3 = 3\n",
    "3var = 3 #tidak boleh diawali dengan angka"
   ]
  },
  {
   "cell_type": "code",
   "execution_count": null,
   "metadata": {},
   "outputs": [],
   "source": [
    "#Kalo mau lebih dari satu kata bisa pilih penamaan variabel\n",
    "myVariableName = 'Camel Case'\n",
    "MyVariableName = 'Pascal'\n",
    "my_variable_name = 'snake_case'"
   ]
  },
  {
   "cell_type": "markdown",
   "metadata": {},
   "source": [
    "Escape Character"
   ]
  },
  {
   "cell_type": "code",
   "execution_count": 39,
   "metadata": {},
   "outputs": [
    {
     "name": "stdout",
     "output_type": "stream",
     "text": [
      "Hai 'Afif', Apa Kabar\n"
     ]
    }
   ],
   "source": [
    "txt = \"Hai 'Afif', Apa Kabar\"\n",
    "print(txt)"
   ]
  },
  {
   "cell_type": "code",
   "execution_count": 42,
   "metadata": {},
   "outputs": [
    {
     "name": "stdout",
     "output_type": "stream",
     "text": [
      "Hai \"Afif\", Apa Kabar\n"
     ]
    }
   ],
   "source": [
    "txt = \"Hai \\\"Afif\\\", Apa Kabar\"\n",
    "print(txt)"
   ]
  },
  {
   "cell_type": "code",
   "execution_count": 43,
   "metadata": {},
   "outputs": [
    {
     "name": "stdout",
     "output_type": "stream",
     "text": [
      "it's alright Ma\n"
     ]
    }
   ],
   "source": [
    "txt = 'it\\'s alright Ma'\n",
    "print(txt)"
   ]
  },
  {
   "cell_type": "markdown",
   "metadata": {},
   "source": [
    "List"
   ]
  },
  {
   "cell_type": "code",
   "execution_count": 45,
   "metadata": {},
   "outputs": [
    {
     "name": "stdout",
     "output_type": "stream",
     "text": [
      "Mobil\n",
      "Kereta\n"
     ]
    }
   ],
   "source": [
    "list = ['Mobil', 'Motor', 'Sepeda', 'Motor', 'Kereta', 'Pesawat', 'Becak']\n",
    "print(list[0])\n",
    "print(list[4])"
   ]
  },
  {
   "cell_type": "code",
   "execution_count": 46,
   "metadata": {},
   "outputs": [
    {
     "name": "stdout",
     "output_type": "stream",
     "text": [
      "Motor\n"
     ]
    }
   ],
   "source": [
    "print(list[-4])"
   ]
  },
  {
   "cell_type": "code",
   "execution_count": 47,
   "metadata": {},
   "outputs": [
    {
     "name": "stdout",
     "output_type": "stream",
     "text": [
      "['Motor', 'Sepeda', 'Motor']\n"
     ]
    }
   ],
   "source": [
    "print(list[1:4])#[start:end]"
   ]
  },
  {
   "cell_type": "code",
   "execution_count": 50,
   "metadata": {},
   "outputs": [
    {
     "name": "stdout",
     "output_type": "stream",
     "text": [
      "['Mobil', 'Motor']\n"
     ]
    }
   ],
   "source": [
    "print(list[0:5:3]) #[start:end:step]"
   ]
  },
  {
   "cell_type": "code",
   "execution_count": 51,
   "metadata": {},
   "outputs": [
    {
     "name": "stdout",
     "output_type": "stream",
     "text": [
      "['Mobil', 'Motor', 'Sepeda', 'Motor', 'Kereta', 'Pesawat', 'Becak', 'Kapal']\n"
     ]
    }
   ],
   "source": [
    "#Menambahkan di akhir\n",
    "list = ['Mobil', 'Motor', 'Sepeda', 'Motor', 'Kereta', 'Pesawat', 'Becak']\n",
    "list.append('Kapal')\n",
    "print(list)"
   ]
  },
  {
   "cell_type": "code",
   "execution_count": 106,
   "metadata": {},
   "outputs": [
    {
     "name": "stdout",
     "output_type": "stream",
     "text": [
      "['Mobil', 'Motor', 'Sepeda', 'Motor', 'Kereta', 'Pesawat', 'Becak']\n",
      "['Mobil', 'Becak', 'Sepeda', 'Motor', 'Kereta', 'Pesawat', 'Becak']\n"
     ]
    }
   ],
   "source": [
    "list = ['Mobil', 'Motor', 'Sepeda', 'Motor', 'Kereta', 'Pesawat', 'Becak']\n",
    "list2 = list.copy()\n",
    "list2[1]='Becak'\n",
    "print(list)\n",
    "print(list2)"
   ]
  },
  {
   "cell_type": "code",
   "execution_count": 52,
   "metadata": {},
   "outputs": [
    {
     "name": "stdout",
     "output_type": "stream",
     "text": [
      "['Helikopter', 'Mobil', 'Motor', 'Sepeda', 'Motor', 'Kereta', 'Pesawat', 'Becak', 'Kapal']\n"
     ]
    }
   ],
   "source": [
    "#Buat Menambahkan\n",
    "ist.insert(0,'Helikopter')\n",
    "print(list)"
   ]
  },
  {
   "cell_type": "code",
   "execution_count": 61,
   "metadata": {},
   "outputs": [
    {
     "name": "stdout",
     "output_type": "stream",
     "text": [
      "['Mobil', 'Motor', 'Sepeda', 'Motor', 'Kereta', 'Pesawat', 'Kapal']\n"
     ]
    }
   ],
   "source": [
    "#Buat Menghapus\n",
    "list.remove('Becak')\n",
    "print(list)\n"
   ]
  },
  {
   "cell_type": "code",
   "execution_count": 62,
   "metadata": {},
   "outputs": [
    {
     "name": "stdout",
     "output_type": "stream",
     "text": [
      "['Motor', 'Sepeda', 'Motor', 'Kereta', 'Pesawat', 'Kapal']\n"
     ]
    }
   ],
   "source": [
    "#Buat Menghapus juga\n",
    "list.pop(0)\n",
    "print(list)"
   ]
  },
  {
   "cell_type": "code",
   "execution_count": 108,
   "metadata": {},
   "outputs": [
    {
     "name": "stdout",
     "output_type": "stream",
     "text": [
      "['Mobil', 'Sepeda', 'Motor', 'Kereta', 'Pesawat', 'Becak']\n"
     ]
    }
   ],
   "source": [
    "#Buat menghapus list juga\n",
    "del list[1]\n",
    "print(list)"
   ]
  },
  {
   "cell_type": "code",
   "execution_count": 109,
   "metadata": {},
   "outputs": [
    {
     "name": "stdout",
     "output_type": "stream",
     "text": [
      "[]\n"
     ]
    }
   ],
   "source": [
    "#Menghapus semua list\n",
    "list.clear()\n",
    "print(list)"
   ]
  },
  {
   "cell_type": "code",
   "execution_count": 65,
   "metadata": {},
   "outputs": [
    {
     "name": "stdout",
     "output_type": "stream",
     "text": [
      "6\n"
     ]
    }
   ],
   "source": [
    "list2=['Motor', 'Sepeda', 'Motor', 'Kereta', 'Pesawat', 'Kapal']\n",
    "print(len(list2))"
   ]
  },
  {
   "cell_type": "code",
   "execution_count": 66,
   "metadata": {},
   "outputs": [
    {
     "name": "stdout",
     "output_type": "stream",
     "text": [
      "<class 'list'>\n"
     ]
    }
   ],
   "source": [
    "print(type(list2))"
   ]
  },
  {
   "cell_type": "code",
   "execution_count": 68,
   "metadata": {},
   "outputs": [
    {
     "name": "stdout",
     "output_type": "stream",
     "text": [
      "['Motor', 'Sepeda', 'Motor']\n",
      "['Kereta', 'Pesawat', 'Kapal']\n"
     ]
    }
   ],
   "source": [
    "print(list2[:3])\n",
    "print(list2[3:])"
   ]
  },
  {
   "cell_type": "code",
   "execution_count": 71,
   "metadata": {},
   "outputs": [
    {
     "name": "stdout",
     "output_type": "stream",
     "text": [
      "['Helikopter', 'Sepeda', 'Motor', 'Kereta', 'Pesawat', 'Kapal']\n"
     ]
    }
   ],
   "source": [
    "list2[0] = \"Helikopter\"\n",
    "print(list2)"
   ]
  },
  {
   "cell_type": "code",
   "execution_count": 73,
   "metadata": {},
   "outputs": [
    {
     "name": "stdout",
     "output_type": "stream",
     "text": [
      "['Helikopter', 'Bus', 'Motor', 'Kereta', 'Pesawat', 'Kapal']\n"
     ]
    }
   ],
   "source": [
    "list2[0:2] = \"Helikopter\" , \"Bus\"\n",
    "print(list2)"
   ]
  },
  {
   "cell_type": "code",
   "execution_count": 74,
   "metadata": {},
   "outputs": [
    {
     "name": "stdout",
     "output_type": "stream",
     "text": [
      "['Motor', 'Sepeda', 'Motor', 'Kereta', 'Pesawat', 'Kapal', 'Getek', 'Perahu', 'Bajai']\n"
     ]
    }
   ],
   "source": [
    "#Menambah list\n",
    "list2=['Motor', 'Sepeda', 'Motor', 'Kereta', 'Pesawat', 'Kapal']\n",
    "list3=['Getek', 'Perahu', 'Bajai']\n",
    "list2.extend(list3)\n",
    "print(list2)"
   ]
  },
  {
   "cell_type": "code",
   "execution_count": 1,
   "metadata": {},
   "outputs": [
    {
     "name": "stdout",
     "output_type": "stream",
     "text": [
      "['Motor', 'Sepeda', 'Motor', 'Kereta', 'Pesawat', 'Kapal', ['Getek', 'Perahu', 'Bajai']]\n"
     ]
    }
   ],
   "source": [
    "list2=['Motor', 'Sepeda', 'Motor', 'Kereta', 'Pesawat', 'Kapal']\n",
    "list3=['Getek', 'Perahu', 'Bajai']\n",
    "list2.append(list3)\n",
    "print(list2)"
   ]
  },
  {
   "cell_type": "code",
   "execution_count": 76,
   "metadata": {},
   "outputs": [
    {
     "name": "stdout",
     "output_type": "stream",
     "text": [
      "['Motor', 'Sepeda', 'Motor', 'Kereta', 'Pesawat', 'Kapal', 'Getek', 'Perahu', 'Bajai']\n"
     ]
    }
   ],
   "source": [
    "#Menambah Tuple ke List\n",
    "list2=['Motor', 'Sepeda', 'Motor', 'Kereta', 'Pesawat', 'Kapal']\n",
    "Tuple_baru=('Getek', 'Perahu', 'Bajai')\n",
    "list2.extend(Tuple_baru)\n",
    "print(list2)"
   ]
  },
  {
   "cell_type": "markdown",
   "metadata": {},
   "source": [
    "Tuple\n",
    "(Perubahan lebih terbatas dibanding List)"
   ]
  },
  {
   "cell_type": "code",
   "execution_count": 91,
   "metadata": {},
   "outputs": [
    {
     "name": "stdout",
     "output_type": "stream",
     "text": [
      "('ayam', 'ikan', 'sayur', 'daging', 'buah', 'telur')\n",
      "sayur\n"
     ]
    }
   ],
   "source": [
    "tuple2 = ('ayam', 'ikan', 'sayur', 'daging', 'buah', 'telur')\n",
    "print(tuple2)\n",
    "print(tuple2[2])"
   ]
  },
  {
   "cell_type": "code",
   "execution_count": 92,
   "metadata": {},
   "outputs": [
    {
     "ename": "TypeError",
     "evalue": "'tuple' object does not support item assignment",
     "output_type": "error",
     "traceback": [
      "\u001b[1;31m---------------------------------------------------------------------------\u001b[0m",
      "\u001b[1;31mTypeError\u001b[0m                                 Traceback (most recent call last)",
      "\u001b[1;32mc:\\Users\\Muhamad Afif\\Documents\\Hacktiv8\\Basic Python\\Latihan1.ipynb Cell 43'\u001b[0m in \u001b[0;36m<cell line: 2>\u001b[1;34m()\u001b[0m\n\u001b[0;32m      <a href='vscode-notebook-cell:/c%3A/Users/Muhamad%20Afif/Documents/Hacktiv8/Basic%20Python/Latihan1.ipynb#ch0000052?line=0'>1</a>\u001b[0m \u001b[39m#untuk mengubah isinya tidak bisa\u001b[39;00m\n\u001b[1;32m----> <a href='vscode-notebook-cell:/c%3A/Users/Muhamad%20Afif/Documents/Hacktiv8/Basic%20Python/Latihan1.ipynb#ch0000052?line=1'>2</a>\u001b[0m tuple2[\u001b[39m2\u001b[39m] \u001b[39m=\u001b[39m \u001b[39m'\u001b[39m\u001b[39mroti\u001b[39m\u001b[39m'\u001b[39m\n",
      "\u001b[1;31mTypeError\u001b[0m: 'tuple' object does not support item assignment"
     ]
    }
   ],
   "source": [
    "#untuk mengubah isinya tidak bisa\n",
    "tuple2[2] = 'roti'"
   ]
  },
  {
   "cell_type": "code",
   "execution_count": 10,
   "metadata": {},
   "outputs": [
    {
     "name": "stdout",
     "output_type": "stream",
     "text": [
      "('ayam', 'ikan', 'roti', 'daging', 'buah', 'telur')\n"
     ]
    }
   ],
   "source": [
    "#cara akalin\n",
    "tuple2 = ('ayam', 'ikan', 'sayur', 'daging', 'buah', 'telur')\n",
    "y = list(tuple2)\n",
    "y[2]='roti'\n",
    "tuple2 = tuple(y)\n",
    "print(tuple2)"
   ]
  },
  {
   "cell_type": "markdown",
   "metadata": {},
   "source": [
    "Dictionary"
   ]
  },
  {
   "cell_type": "code",
   "execution_count": 98,
   "metadata": {},
   "outputs": [
    {
     "name": "stdout",
     "output_type": "stream",
     "text": [
      "{'brand': 'Ford', 'model': 'Mustang', 'Tahun': 1999}\n",
      "3\n"
     ]
    }
   ],
   "source": [
    "thisdict = {\n",
    "    'brand':'Ford',\n",
    "    'model':'Mustang',\n",
    "    'Tahun':1999\n",
    "}\n",
    "print(thisdict)\n",
    "print(len(thisdict)) #len untuk menghitung panjang"
   ]
  },
  {
   "cell_type": "code",
   "execution_count": 100,
   "metadata": {},
   "outputs": [
    {
     "name": "stdout",
     "output_type": "stream",
     "text": [
      "7\n"
     ]
    }
   ],
   "source": [
    "x = 'Muhamad'\n",
    "print(len(x))"
   ]
  },
  {
   "cell_type": "code",
   "execution_count": 101,
   "metadata": {},
   "outputs": [
    {
     "name": "stdout",
     "output_type": "stream",
     "text": [
      "{'brand': 'Toyota', 'model': 'Mustang', 'Tahun': 1999}\n"
     ]
    }
   ],
   "source": [
    "#Mengubah Value Dictionary\n",
    "thisdict['brand']='Toyota'\n",
    "print(thisdict)"
   ]
  },
  {
   "cell_type": "code",
   "execution_count": 6,
   "metadata": {},
   "outputs": [
    {
     "name": "stdout",
     "output_type": "stream",
     "text": [
      "{'brand': 'Ford', 'model': 'Mustang', 'Tahun': 1999, 'color': ['blue']}\n"
     ]
    }
   ],
   "source": [
    "#Menambah Keys dan Value Dictionary\n",
    "thisdict = {\n",
    "    'brand':'Ford',\n",
    "    'model':'Mustang',\n",
    "    'Tahun':1999\n",
    "}\n",
    "thisdict['color']=['blue']\n",
    "print(thisdict)"
   ]
  },
  {
   "cell_type": "code",
   "execution_count": 9,
   "metadata": {},
   "outputs": [
    {
     "name": "stdout",
     "output_type": "stream",
     "text": [
      "{'brand': 'Ford', 'model': 'Mustang', 'Tahun': 1999, 'color': 'blue'}\n"
     ]
    }
   ],
   "source": [
    "thisdict.update({\"color\":\"blue\"})\n",
    "print(thisdict)"
   ]
  },
  {
   "cell_type": "code",
   "execution_count": 103,
   "metadata": {},
   "outputs": [
    {
     "name": "stdout",
     "output_type": "stream",
     "text": [
      "{'brand': 'Toyota', 'Tahun': 1999, 'color': ['blue']}\n"
     ]
    }
   ],
   "source": [
    "thisdict.pop('model')\n",
    "print(thisdict)"
   ]
  },
  {
   "cell_type": "markdown",
   "metadata": {},
   "source": [
    "Set (Perubahan sangat terbatas)"
   ]
  },
  {
   "cell_type": "code",
   "execution_count": 104,
   "metadata": {},
   "outputs": [
    {
     "name": "stdout",
     "output_type": "stream",
     "text": [
      "{'harimau', 'macan', 'monyet', 'singa', 'buaya'}\n"
     ]
    }
   ],
   "source": [
    "myset = {'macan', 'harimau', 'singa', 'monyet', 'buaya', 'harimau'} #set tidak bisa duplikat\n",
    "print(myset)"
   ]
  },
  {
   "cell_type": "code",
   "execution_count": 12,
   "metadata": {},
   "outputs": [
    {
     "name": "stdout",
     "output_type": "stream",
     "text": [
      "{'macan', 'badak', 'buaya', 'monyet', 'singa', 'harimau'}\n"
     ]
    }
   ],
   "source": [
    "myset = {'macan', 'harimau', 'singa', 'monyet', 'buaya', 'harimau'}\n",
    "myset.add('badak')\n",
    "print(myset)"
   ]
  },
  {
   "cell_type": "code",
   "execution_count": 13,
   "metadata": {},
   "outputs": [
    {
     "name": "stdout",
     "output_type": "stream",
     "text": [
      "{'macan', 'badak', 'gajah', 'buaya', 'monyet', 'jerapah', 'singa', 'harimau'}\n"
     ]
    }
   ],
   "source": [
    "myset = {'macan', 'harimau', 'singa', 'monyet', 'buaya', 'harimau'}\n",
    "myset2 = {'badak', 'gajah', 'jerapah'}\n",
    "myset.update(myset2)\n",
    "print(myset)"
   ]
  },
  {
   "cell_type": "code",
   "execution_count": 14,
   "metadata": {},
   "outputs": [
    {
     "name": "stdout",
     "output_type": "stream",
     "text": [
      "{'burung', 'jerapah', 'singa', 'harimau', 'buaya', 'monyet', 'orangutan', 'macan', 'badak', 'gajah'}\n"
     ]
    }
   ],
   "source": [
    "mylist = ['burung','orangutan']\n",
    "myset.update(mylist)\n",
    "print(myset)"
   ]
  },
  {
   "cell_type": "code",
   "execution_count": 16,
   "metadata": {},
   "outputs": [
    {
     "name": "stdout",
     "output_type": "stream",
     "text": [
      "{'burung', 'jerapah', 'singa', 'harimau', 'buaya', 'orangutan', 'macan', 'badak', 'gajah'}\n"
     ]
    }
   ],
   "source": [
    "myset.remove('monyet')\n",
    "print(myset)"
   ]
  },
  {
   "cell_type": "code",
   "execution_count": null,
   "metadata": {},
   "outputs": [],
   "source": [
    "myset.clear()"
   ]
  }
 ],
 "metadata": {
  "interpreter": {
   "hash": "eb3224cf46f1f2883013ca6576c881ca97fafeff9e390defea098bf29512bff1"
  },
  "kernelspec": {
   "display_name": "Python 3.10.2 64-bit",
   "language": "python",
   "name": "python3"
  },
  "language_info": {
   "codemirror_mode": {
    "name": "ipython",
    "version": 3
   },
   "file_extension": ".py",
   "mimetype": "text/x-python",
   "name": "python",
   "nbconvert_exporter": "python",
   "pygments_lexer": "ipython3",
   "version": "3.10.2"
  },
  "orig_nbformat": 4
 },
 "nbformat": 4,
 "nbformat_minor": 2
}
