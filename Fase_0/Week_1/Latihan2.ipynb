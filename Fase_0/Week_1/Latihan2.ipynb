{
 "cells": [
  {
   "cell_type": "markdown",
   "metadata": {},
   "source": [
    "Latihan 2\n",
    "Muhamad Afif Thufail"
   ]
  },
  {
   "cell_type": "markdown",
   "metadata": {},
   "source": [
    "Conditional and Loop\n"
   ]
  },
  {
   "cell_type": "markdown",
   "metadata": {},
   "source": [
    "1. Conditional"
   ]
  },
  {
   "cell_type": "code",
   "execution_count": 5,
   "metadata": {},
   "outputs": [
    {
     "name": "stdout",
     "output_type": "stream",
     "text": [
      "66\n",
      "66 lebih besar dari 30\n"
     ]
    }
   ],
   "source": [
    "angka = 66\n",
    "print(angka)\n",
    "print(f\"{angka} lebih besar dari 30\")"
   ]
  },
  {
   "cell_type": "code",
   "execution_count": 6,
   "metadata": {},
   "outputs": [
    {
     "name": "stdout",
     "output_type": "stream",
     "text": [
      "22\n",
      "22 lebih besar dari 30\n"
     ]
    }
   ],
   "source": [
    "#Salah\n",
    "angka = 22\n",
    "print(angka)\n",
    "print(f\"{angka} lebih besar dari 30\")"
   ]
  },
  {
   "cell_type": "code",
   "execution_count": 7,
   "metadata": {},
   "outputs": [
    {
     "name": "stdout",
     "output_type": "stream",
     "text": [
      "66 lebih besar dari 30\n"
     ]
    }
   ],
   "source": [
    "#Menggunakan tipe data boolean (True dan False)\n",
    "angka = 66\n",
    "if True:\n",
    "    print(f\"{angka} lebih besar dari 30\")"
   ]
  },
  {
   "cell_type": "code",
   "execution_count": 8,
   "metadata": {},
   "outputs": [
    {
     "name": "stdout",
     "output_type": "stream",
     "text": [
      "29 lebih besar dari 30\n"
     ]
    }
   ],
   "source": [
    "angka = 29\n",
    "if True:\n",
    "    print(f\"{angka} lebih besar dari 30\")"
   ]
  },
  {
   "cell_type": "code",
   "execution_count": 10,
   "metadata": {},
   "outputs": [],
   "source": [
    "angka = 66\n",
    "if False:\n",
    "    print(f\"{angka} lebih besar dari 30\")"
   ]
  },
  {
   "cell_type": "code",
   "execution_count": 11,
   "metadata": {},
   "outputs": [
    {
     "data": {
      "text/plain": [
       "False"
      ]
     },
     "execution_count": 11,
     "metadata": {},
     "output_type": "execute_result"
    }
   ],
   "source": [
    "29>30"
   ]
  },
  {
   "cell_type": "code",
   "execution_count": 12,
   "metadata": {},
   "outputs": [
    {
     "data": {
      "text/plain": [
       "True"
      ]
     },
     "execution_count": 12,
     "metadata": {},
     "output_type": "execute_result"
    }
   ],
   "source": [
    "40>30"
   ]
  },
  {
   "cell_type": "code",
   "execution_count": 14,
   "metadata": {},
   "outputs": [],
   "source": [
    "angka = 29\n",
    "if angka>30:\n",
    "    print(f\"{angka} lebih besar dari 30\")"
   ]
  },
  {
   "cell_type": "code",
   "execution_count": 15,
   "metadata": {},
   "outputs": [
    {
     "name": "stdout",
     "output_type": "stream",
     "text": [
      "66 lebih besar dari 30\n"
     ]
    }
   ],
   "source": [
    "angka = 66\n",
    "if angka>30:\n",
    "    print(f\"{angka} lebih besar dari 30\")"
   ]
  },
  {
   "cell_type": "code",
   "execution_count": 16,
   "metadata": {},
   "outputs": [
    {
     "name": "stdout",
     "output_type": "stream",
     "text": [
      "19 lebih kecil dari 30\n"
     ]
    }
   ],
   "source": [
    "angka = 19\n",
    "if angka>30:\n",
    "    print(f\"{angka} lebih besar dari 30\")\n",
    "else:\n",
    "    print(f\"{angka} lebih kecil dari 30\")"
   ]
  },
  {
   "cell_type": "code",
   "execution_count": 17,
   "metadata": {},
   "outputs": [
    {
     "name": "stdout",
     "output_type": "stream",
     "text": [
      "44 lebih besar dari 30\n"
     ]
    }
   ],
   "source": [
    "angka = 44\n",
    "if angka>30:\n",
    "    print(f\"{angka} lebih besar dari 30\")\n",
    "else:\n",
    "    print(f\"{angka} lebih kecil dari 30\")"
   ]
  },
  {
   "cell_type": "markdown",
   "metadata": {},
   "source": [
    "cek apakah angka yang berada di variabel angka adalah bilangan ganjil/genap?"
   ]
  },
  {
   "cell_type": "code",
   "execution_count": 21,
   "metadata": {},
   "outputs": [
    {
     "name": "stdout",
     "output_type": "stream",
     "text": [
      "14 bilangan genap\n"
     ]
    }
   ],
   "source": [
    "angka = 14\n",
    "if angka %2 !=0:\n",
    "    print(f\"{angka} bilangan ganjil\")\n",
    "else:\n",
    "    print(f\"{angka} bilangan genap\")"
   ]
  },
  {
   "cell_type": "code",
   "execution_count": 22,
   "metadata": {},
   "outputs": [
    {
     "name": "stdout",
     "output_type": "stream",
     "text": [
      "html tidak ada dalam list bahasa_programming\n"
     ]
    }
   ],
   "source": [
    "bahasa_programming = ['python', 'java', 'javascript', 'php']\n",
    "bahasa = 'html'\n",
    "\n",
    "if bahasa in bahasa_programming:\n",
    "    print(f\"{bahasa} ada dalam list bahasa_programming\")\n",
    "else:\n",
    "    print(f\"{bahasa} tidak ada dalam list bahasa_programming\")"
   ]
  },
  {
   "cell_type": "code",
   "execution_count": 26,
   "metadata": {},
   "outputs": [
    {
     "name": "stdout",
     "output_type": "stream",
     "text": [
      "35 lebih besar dari 30\n",
      "35 lebih kecil dari 30\n"
     ]
    }
   ],
   "source": [
    "angka = 35\n",
    "if angka>30:\n",
    "    print(f\"{angka} lebih besar dari 30\")\n",
    "if angka ==30:\n",
    "    print(f\"{angka} sama dengan 30\")\n",
    "else:\n",
    "    print(f\"{angka} lebih kecil dari 30\")"
   ]
  },
  {
   "cell_type": "code",
   "execution_count": 27,
   "metadata": {},
   "outputs": [
    {
     "name": "stdout",
     "output_type": "stream",
     "text": [
      "35 lebih besar dari 30\n"
     ]
    }
   ],
   "source": [
    "angka = 35\n",
    "if angka>30:\n",
    "    print(f\"{angka} lebih besar dari 30\")\n",
    "elif angka ==30:\n",
    "    print(f\"{angka} sama dengan 30\")\n",
    "else:\n",
    "    print(f\"{angka} lebih kecil dari 30\")"
   ]
  },
  {
   "cell_type": "code",
   "execution_count": 29,
   "metadata": {},
   "outputs": [
    {
     "data": {
      "text/plain": [
       "True"
      ]
     },
     "execution_count": 29,
     "metadata": {},
     "output_type": "execute_result"
    }
   ],
   "source": [
    "biodata = {'nama':'Afif', 'pekerjaan':'Data Scientist', 'usia':'23'}\n",
    "'usia' in biodata"
   ]
  },
  {
   "cell_type": "code",
   "execution_count": 33,
   "metadata": {},
   "outputs": [
    {
     "data": {
      "text/plain": [
       "True"
      ]
     },
     "execution_count": 33,
     "metadata": {},
     "output_type": "execute_result"
    }
   ],
   "source": [
    "biodata = {'nama':'Afif', 'pekerjaan':'Data Scientist', 'usia':23}\n",
    "'usia' in biodata"
   ]
  },
  {
   "cell_type": "code",
   "execution_count": 34,
   "metadata": {},
   "outputs": [
    {
     "data": {
      "text/plain": [
       "True"
      ]
     },
     "execution_count": 34,
     "metadata": {},
     "output_type": "execute_result"
    }
   ],
   "source": [
    "23 in biodata.values()"
   ]
  },
  {
   "cell_type": "code",
   "execution_count": 42,
   "metadata": {},
   "outputs": [
    {
     "name": "stdout",
     "output_type": "stream",
     "text": [
      "15 bilangan ganjil\n",
      "15 lebih besar dari 10\n"
     ]
    }
   ],
   "source": [
    "#Nested If\n",
    "angka = 15\n",
    "if angka %2 !=0:\n",
    "    print(f\"{angka} bilangan ganjil\")\n",
    "    if angka>10:\n",
    "        print(f\"{angka} lebih besar dari 10\")\n",
    "    else:\n",
    "        print(f\"{angka} lebih kecil dari 10\")\n",
    "else:\n",
    "    print(f\"{angka} bilangan genap\")"
   ]
  },
  {
   "cell_type": "code",
   "execution_count": 51,
   "metadata": {},
   "outputs": [
    {
     "name": "stdout",
     "output_type": "stream",
     "text": [
      "Anda mendapat indeks A\n"
     ]
    }
   ],
   "source": [
    "nilai = 100\n",
    "if 85<= nilai <=100:\n",
    "    print('Anda mendapat indeks A')\n",
    "elif 70<= nilai <85:\n",
    "    print('Anda mendapat indeks B')\n",
    "elif 50<= nilai<70:\n",
    "    print('Anda mendapat indeks C')\n",
    "elif 25<= nilai<50:\n",
    "    print('Anda mendapat indeks D')\n",
    "else:\n",
    "    print('anda mendapat indeks E')"
   ]
  },
  {
   "cell_type": "code",
   "execution_count": 56,
   "metadata": {},
   "outputs": [
    {
     "name": "stdout",
     "output_type": "stream",
     "text": [
      "Anda mendapat indeks A\n"
     ]
    }
   ],
   "source": [
    "nilai=100\n",
    "if 0 <= nilai <= 100:\n",
    "    if nilai>=85:\n",
    "     print('Anda mendapat indeks A')\n",
    "    elif nilai>=70:\n",
    "     print('Anda mendapat indeks B')\n",
    "    elif nilai>=50:\n",
    "     print('Anda mendapat indeks C')\n",
    "    elif nilai>=25:\n",
    "     print('Anda mendapat indeks D')\n",
    "    else:\n",
    "      print('anda mendapat indeks E')\n",
    "else:\n",
    "    print(\"Nilai tidak valid\")"
   ]
  },
  {
   "cell_type": "code",
   "execution_count": 58,
   "metadata": {},
   "outputs": [
    {
     "data": {
      "text/plain": [
       "[85, 86, 87, 88, 89, 90, 91, 92, 93, 94, 95, 96, 97, 98, 99]"
      ]
     },
     "execution_count": 58,
     "metadata": {},
     "output_type": "execute_result"
    }
   ],
   "source": [
    "list(range(85,100)) #Hanya untuk bilangan bulat"
   ]
  },
  {
   "cell_type": "code",
   "execution_count": 59,
   "metadata": {},
   "outputs": [
    {
     "data": {
      "text/plain": [
       "True"
      ]
     },
     "execution_count": 59,
     "metadata": {},
     "output_type": "execute_result"
    }
   ],
   "source": [
    "87 in range(85,100)"
   ]
  },
  {
   "cell_type": "code",
   "execution_count": 60,
   "metadata": {},
   "outputs": [
    {
     "data": {
      "text/plain": [
       "False"
      ]
     },
     "execution_count": 60,
     "metadata": {},
     "output_type": "execute_result"
    }
   ],
   "source": [
    "87.5 in range(85,100)"
   ]
  },
  {
   "cell_type": "markdown",
   "metadata": {},
   "source": [
    "Looping"
   ]
  },
  {
   "cell_type": "code",
   "execution_count": 64,
   "metadata": {},
   "outputs": [
    {
     "name": "stdout",
     "output_type": "stream",
     "text": [
      "i=0, dalam while loop\n",
      "i=1, dalam while loop\n",
      "i=2, dalam while loop\n",
      "i=3, dalam while loop\n",
      "i=4, dalam while loop\n",
      "i=5, dalam while loop\n"
     ]
    }
   ],
   "source": [
    "i = 0\n",
    "while i < 6:\n",
    "    print(f\"i={i}, dalam while loop\")\n",
    "    i = i + 1\n"
   ]
  },
  {
   "cell_type": "code",
   "execution_count": 65,
   "metadata": {},
   "outputs": [
    {
     "name": "stdout",
     "output_type": "stream",
     "text": [
      "7 x 1 = 7\n",
      "7 x 2 = 14\n",
      "7 x 3 = 21\n",
      "7 x 4 = 28\n",
      "7 x 5 = 35\n",
      "7 x 6 = 42\n",
      "7 x 7 = 49\n",
      "7 x 8 = 56\n",
      "7 x 9 = 63\n",
      "7 x 10 = 70\n"
     ]
    }
   ],
   "source": [
    "i = 1\n",
    "while i <=10:\n",
    "    print(f\"7 x {i} = {7*i}\")\n",
    "    i = i + 1 \n"
   ]
  },
  {
   "cell_type": "code",
   "execution_count": 69,
   "metadata": {},
   "outputs": [
    {
     "name": "stdout",
     "output_type": "stream",
     "text": [
      "1 x 1 = 1\n",
      "1 x 2 = 2\n",
      "1 x 3 = 3\n",
      "1 x 4 = 4\n",
      "1 x 5 = 5\n",
      "1 x 6 = 6\n",
      "1 x 7 = 7\n",
      "1 x 8 = 8\n",
      "1 x 9 = 9\n",
      "1 x 10 = 10\n",
      "xxxxxxxxxxxxxxxxxxxx\n",
      "2 x 1 = 2\n",
      "2 x 2 = 4\n",
      "2 x 3 = 6\n",
      "2 x 4 = 8\n",
      "2 x 5 = 10\n",
      "2 x 6 = 12\n",
      "2 x 7 = 14\n",
      "2 x 8 = 16\n",
      "2 x 9 = 18\n",
      "2 x 10 = 20\n",
      "xxxxxxxxxxxxxxxxxxxx\n",
      "3 x 1 = 3\n",
      "3 x 2 = 6\n",
      "3 x 3 = 9\n",
      "3 x 4 = 12\n",
      "3 x 5 = 15\n",
      "3 x 6 = 18\n",
      "3 x 7 = 21\n",
      "3 x 8 = 24\n",
      "3 x 9 = 27\n",
      "3 x 10 = 30\n",
      "xxxxxxxxxxxxxxxxxxxx\n",
      "4 x 1 = 4\n",
      "4 x 2 = 8\n",
      "4 x 3 = 12\n",
      "4 x 4 = 16\n",
      "4 x 5 = 20\n",
      "4 x 6 = 24\n",
      "4 x 7 = 28\n",
      "4 x 8 = 32\n",
      "4 x 9 = 36\n",
      "4 x 10 = 40\n",
      "xxxxxxxxxxxxxxxxxxxx\n",
      "5 x 1 = 5\n",
      "5 x 2 = 10\n",
      "5 x 3 = 15\n",
      "5 x 4 = 20\n",
      "5 x 5 = 25\n",
      "5 x 6 = 30\n",
      "5 x 7 = 35\n",
      "5 x 8 = 40\n",
      "5 x 9 = 45\n",
      "5 x 10 = 50\n",
      "xxxxxxxxxxxxxxxxxxxx\n",
      "6 x 1 = 6\n",
      "6 x 2 = 12\n",
      "6 x 3 = 18\n",
      "6 x 4 = 24\n",
      "6 x 5 = 30\n",
      "6 x 6 = 36\n",
      "6 x 7 = 42\n",
      "6 x 8 = 48\n",
      "6 x 9 = 54\n",
      "6 x 10 = 60\n",
      "xxxxxxxxxxxxxxxxxxxx\n",
      "7 x 1 = 7\n",
      "7 x 2 = 14\n",
      "7 x 3 = 21\n",
      "7 x 4 = 28\n",
      "7 x 5 = 35\n",
      "7 x 6 = 42\n",
      "7 x 7 = 49\n",
      "7 x 8 = 56\n",
      "7 x 9 = 63\n",
      "7 x 10 = 70\n",
      "xxxxxxxxxxxxxxxxxxxx\n",
      "8 x 1 = 8\n",
      "8 x 2 = 16\n",
      "8 x 3 = 24\n",
      "8 x 4 = 32\n",
      "8 x 5 = 40\n",
      "8 x 6 = 48\n",
      "8 x 7 = 56\n",
      "8 x 8 = 64\n",
      "8 x 9 = 72\n",
      "8 x 10 = 80\n",
      "xxxxxxxxxxxxxxxxxxxx\n",
      "9 x 1 = 9\n",
      "9 x 2 = 18\n",
      "9 x 3 = 27\n",
      "9 x 4 = 36\n",
      "9 x 5 = 45\n",
      "9 x 6 = 54\n",
      "9 x 7 = 63\n",
      "9 x 8 = 72\n",
      "9 x 9 = 81\n",
      "9 x 10 = 90\n",
      "xxxxxxxxxxxxxxxxxxxx\n",
      "10 x 1 = 10\n",
      "10 x 2 = 20\n",
      "10 x 3 = 30\n",
      "10 x 4 = 40\n",
      "10 x 5 = 50\n",
      "10 x 6 = 60\n",
      "10 x 7 = 70\n",
      "10 x 8 = 80\n",
      "10 x 9 = 90\n",
      "10 x 10 = 100\n",
      "xxxxxxxxxxxxxxxxxxxx\n"
     ]
    }
   ],
   "source": [
    "#nested loop (tabel perkalian)\n",
    "\n",
    "i = 1\n",
    "j = 1\n",
    "while j <= 10:\n",
    "    i = 1\n",
    "    while i<=10:\n",
    "        print(f\"{j} x {i} = {j*i}\")\n",
    "        i+= 1\n",
    "    print(\"x\"*20)\n",
    "    j+=1\n",
    "  \n"
   ]
  },
  {
   "cell_type": "code",
   "execution_count": 72,
   "metadata": {},
   "outputs": [
    {
     "name": "stdout",
     "output_type": "stream",
     "text": [
      "7 x 1 = 7\n",
      "7 x 2 = 14\n",
      "7 x 3 = 21\n"
     ]
    }
   ],
   "source": [
    "#break (memberhentikan loop)\n",
    "i = 1\n",
    "while i <=10:\n",
    "    print(f\"7 x {i} = {7*i}\")\n",
    "    i = i + 1\n",
    "    if i ==4:\n",
    "        break\n"
   ]
  },
  {
   "cell_type": "code",
   "execution_count": 74,
   "metadata": {},
   "outputs": [
    {
     "name": "stdout",
     "output_type": "stream",
     "text": [
      "7 x 1 = 7\n",
      "7 x 2 = 14\n",
      "7 x 3 = 21\n",
      "7 x 4 = 28\n",
      "7 x 6 = 42\n",
      "7 x 7 = 49\n",
      "7 x 8 = 56\n",
      "7 x 9 = 63\n",
      "7 x 10 = 70\n",
      "7 x 11 = 77\n"
     ]
    }
   ],
   "source": [
    "#continue (skip iterasi)\n",
    "i = 0\n",
    "while i <=10:\n",
    "    i = i + 1\n",
    "    if i ==5:\n",
    "        continue\n",
    "    print(f\"7 x {i} = {7*i}\")"
   ]
  },
  {
   "cell_type": "code",
   "execution_count": 76,
   "metadata": {},
   "outputs": [
    {
     "name": "stdout",
     "output_type": "stream",
     "text": [
      "pepaya adalah item dalam list buah\n",
      "mangga adalah item dalam list buah\n",
      "pisang adalah item dalam list buah\n",
      "jambu adalah item dalam list buah\n"
     ]
    }
   ],
   "source": [
    "buah =['pepaya','mangga','pisang','jambu']\n",
    "for b in buah:\n",
    "    print(f\"{b} adalah item dalam list buah\")"
   ]
  },
  {
   "cell_type": "code",
   "execution_count": 80,
   "metadata": {},
   "outputs": [
    {
     "name": "stdout",
     "output_type": "stream",
     "text": [
      "pepaya adalah item dalam list buah\n",
      "mangga adalah item dalam list buah\n",
      "pisang adalah item dalam list buah\n",
      "jambu adalah item dalam list buah\n"
     ]
    }
   ],
   "source": [
    "i = 0\n",
    "buah =['pepaya','mangga','pisang','jambu']\n",
    "while i < len(buah):\n",
    "    print(f\"{buah [i]} adalah item dalam list buah\")\n",
    "    i+=1"
   ]
  },
  {
   "cell_type": "code",
   "execution_count": 84,
   "metadata": {},
   "outputs": [
    {
     "name": "stdout",
     "output_type": "stream",
     "text": [
      "pepaya adalah item dalam list buah\n",
      "mangga adalah item dalam list buah\n",
      "pisang adalah item dalam list buah\n",
      "jambu adalah item dalam list buah\n"
     ]
    }
   ],
   "source": [
    "for i in range(len(buah)):\n",
    "    print(f\"{buah[i]} adalah item dalam list buah\")"
   ]
  },
  {
   "cell_type": "code",
   "execution_count": 86,
   "metadata": {},
   "outputs": [
    {
     "name": "stdout",
     "output_type": "stream",
     "text": [
      "7 x 1 = 7\n",
      "7 x 2 = 14\n",
      "7 x 3 = 21\n",
      "7 x 4 = 28\n",
      "7 x 5 = 35\n",
      "7 x 6 = 42\n",
      "7 x 7 = 49\n",
      "7 x 8 = 56\n",
      "7 x 9 = 63\n",
      "7 x 10 = 70\n"
     ]
    }
   ],
   "source": [
    "for i in range (1,11):\n",
    "    print(f\"7 x {i} = {7*i}\")\n",
    "    "
   ]
  },
  {
   "cell_type": "code",
   "execution_count": 89,
   "metadata": {},
   "outputs": [
    {
     "name": "stdout",
     "output_type": "stream",
     "text": [
      "1 x 1 = 1\n",
      "1 x 2 = 2\n",
      "1 x 3 = 3\n",
      "1 x 4 = 4\n",
      "1 x 5 = 5\n",
      "1 x 6 = 6\n",
      "1 x 7 = 7\n",
      "1 x 8 = 8\n",
      "1 x 9 = 9\n",
      "1 x 10 = 10\n",
      "xxxxxxxxxxxxxxxxxxxx\n",
      "2 x 1 = 2\n",
      "2 x 2 = 4\n",
      "2 x 3 = 6\n",
      "2 x 4 = 8\n",
      "2 x 5 = 10\n",
      "2 x 6 = 12\n",
      "2 x 7 = 14\n",
      "2 x 8 = 16\n",
      "2 x 9 = 18\n",
      "2 x 10 = 20\n",
      "xxxxxxxxxxxxxxxxxxxx\n",
      "3 x 1 = 3\n",
      "3 x 2 = 6\n",
      "3 x 3 = 9\n",
      "3 x 4 = 12\n",
      "3 x 5 = 15\n",
      "3 x 6 = 18\n",
      "3 x 7 = 21\n",
      "3 x 8 = 24\n",
      "3 x 9 = 27\n",
      "3 x 10 = 30\n",
      "xxxxxxxxxxxxxxxxxxxx\n",
      "4 x 1 = 4\n",
      "4 x 2 = 8\n",
      "4 x 3 = 12\n",
      "4 x 4 = 16\n",
      "4 x 5 = 20\n",
      "4 x 6 = 24\n",
      "4 x 7 = 28\n",
      "4 x 8 = 32\n",
      "4 x 9 = 36\n",
      "4 x 10 = 40\n",
      "xxxxxxxxxxxxxxxxxxxx\n",
      "5 x 1 = 5\n",
      "5 x 2 = 10\n",
      "5 x 3 = 15\n",
      "5 x 4 = 20\n",
      "5 x 5 = 25\n",
      "5 x 6 = 30\n",
      "5 x 7 = 35\n",
      "5 x 8 = 40\n",
      "5 x 9 = 45\n",
      "5 x 10 = 50\n",
      "xxxxxxxxxxxxxxxxxxxx\n",
      "6 x 1 = 6\n",
      "6 x 2 = 12\n",
      "6 x 3 = 18\n",
      "6 x 4 = 24\n",
      "6 x 5 = 30\n",
      "6 x 6 = 36\n",
      "6 x 7 = 42\n",
      "6 x 8 = 48\n",
      "6 x 9 = 54\n",
      "6 x 10 = 60\n",
      "xxxxxxxxxxxxxxxxxxxx\n",
      "7 x 1 = 7\n",
      "7 x 2 = 14\n",
      "7 x 3 = 21\n",
      "7 x 4 = 28\n",
      "7 x 5 = 35\n",
      "7 x 6 = 42\n",
      "7 x 7 = 49\n",
      "7 x 8 = 56\n",
      "7 x 9 = 63\n",
      "7 x 10 = 70\n",
      "xxxxxxxxxxxxxxxxxxxx\n",
      "8 x 1 = 8\n",
      "8 x 2 = 16\n",
      "8 x 3 = 24\n",
      "8 x 4 = 32\n",
      "8 x 5 = 40\n",
      "8 x 6 = 48\n",
      "8 x 7 = 56\n",
      "8 x 8 = 64\n",
      "8 x 9 = 72\n",
      "8 x 10 = 80\n",
      "xxxxxxxxxxxxxxxxxxxx\n",
      "9 x 1 = 9\n",
      "9 x 2 = 18\n",
      "9 x 3 = 27\n",
      "9 x 4 = 36\n",
      "9 x 5 = 45\n",
      "9 x 6 = 54\n",
      "9 x 7 = 63\n",
      "9 x 8 = 72\n",
      "9 x 9 = 81\n",
      "9 x 10 = 90\n",
      "xxxxxxxxxxxxxxxxxxxx\n",
      "10 x 1 = 10\n",
      "10 x 2 = 20\n",
      "10 x 3 = 30\n",
      "10 x 4 = 40\n",
      "10 x 5 = 50\n",
      "10 x 6 = 60\n",
      "10 x 7 = 70\n",
      "10 x 8 = 80\n",
      "10 x 9 = 90\n",
      "10 x 10 = 100\n",
      "xxxxxxxxxxxxxxxxxxxx\n"
     ]
    }
   ],
   "source": [
    "for j in range (1,11):\n",
    "    for i in range (1,11):\n",
    "     print(f\"{j} x {i} = {j*i}\")\n",
    "    print(\"x\"*20)"
   ]
  },
  {
   "cell_type": "code",
   "execution_count": 90,
   "metadata": {},
   "outputs": [
    {
     "name": "stdout",
     "output_type": "stream",
     "text": [
      "7 x 1 = 7\n",
      "7 x 2 = 14\n",
      "7 x 3 = 21\n",
      "7 x 4 = 28\n"
     ]
    }
   ],
   "source": [
    "for i in range(1,11):\n",
    "    if i==5:\n",
    "        break\n",
    "    print(f\"7 x {i} = {7*i}\")"
   ]
  },
  {
   "cell_type": "code",
   "execution_count": 91,
   "metadata": {},
   "outputs": [
    {
     "name": "stdout",
     "output_type": "stream",
     "text": [
      "7 x 1 = 7\n",
      "7 x 2 = 14\n",
      "7 x 3 = 21\n",
      "7 x 4 = 28\n",
      "7 x 6 = 42\n",
      "7 x 7 = 49\n",
      "7 x 8 = 56\n",
      "7 x 9 = 63\n",
      "7 x 10 = 70\n"
     ]
    }
   ],
   "source": [
    "for i in range(1,11):\n",
    "    if i==5:\n",
    "        continue\n",
    "    print(f\"7 x {i} = {7*i}\")"
   ]
  }
 ],
 "metadata": {
  "interpreter": {
   "hash": "eb3224cf46f1f2883013ca6576c881ca97fafeff9e390defea098bf29512bff1"
  },
  "kernelspec": {
   "display_name": "Python 3.10.2 64-bit",
   "language": "python",
   "name": "python3"
  },
  "language_info": {
   "codemirror_mode": {
    "name": "ipython",
    "version": 3
   },
   "file_extension": ".py",
   "mimetype": "text/x-python",
   "name": "python",
   "nbconvert_exporter": "python",
   "pygments_lexer": "ipython3",
   "version": "3.10.2"
  },
  "orig_nbformat": 4
 },
 "nbformat": 4,
 "nbformat_minor": 2
}
