{
 "cells": [
  {
   "cell_type": "markdown",
   "metadata": {},
   "source": [
    "Non Gradded Challenge 8"
   ]
  },
  {
   "cell_type": "code",
   "execution_count": 1,
   "metadata": {},
   "outputs": [],
   "source": [
    "import numpy as np"
   ]
  },
  {
   "cell_type": "code",
   "execution_count": 6,
   "metadata": {},
   "outputs": [],
   "source": [
    "import sympy as sy"
   ]
  },
  {
   "cell_type": "markdown",
   "metadata": {},
   "source": [
    "Simbolik"
   ]
  },
  {
   "cell_type": "markdown",
   "metadata": {},
   "source": [
    "Persamaan 1"
   ]
  },
  {
   "cell_type": "code",
   "execution_count": 7,
   "metadata": {},
   "outputs": [],
   "source": [
    "x=sy.Symbol('x')\n",
    "\n"
   ]
  },
  {
   "cell_type": "code",
   "execution_count": 9,
   "metadata": {},
   "outputs": [
    {
     "data": {
      "text/latex": [
       "$\\displaystyle 3 x^{2} - 6 x + 3$"
      ],
      "text/plain": [
       "3*x**2 - 6*x + 3"
      ]
     },
     "execution_count": 9,
     "metadata": {},
     "output_type": "execute_result"
    }
   ],
   "source": [
    "y = 3*x**2 - 6*x + 3\n",
    "y"
   ]
  },
  {
   "cell_type": "code",
   "execution_count": 10,
   "metadata": {},
   "outputs": [
    {
     "data": {
      "text/latex": [
       "$\\displaystyle x^{3} - 3 x^{2} + 3 x$"
      ],
      "text/plain": [
       "x**3 - 3*x**2 + 3*x"
      ]
     },
     "execution_count": 10,
     "metadata": {},
     "output_type": "execute_result"
    }
   ],
   "source": [
    "sy.integrate(y)"
   ]
  },
  {
   "cell_type": "code",
   "execution_count": 12,
   "metadata": {},
   "outputs": [
    {
     "data": {
      "text/plain": [
       "729"
      ]
     },
     "execution_count": 12,
     "metadata": {},
     "output_type": "execute_result"
    }
   ],
   "source": [
    "def integral_y (x):\n",
    "    return x**3 - 3*x**2 + 3*x\n",
    "\n",
    "integral_y(10) - integral_y(1)"
   ]
  },
  {
   "cell_type": "markdown",
   "metadata": {},
   "source": [
    "Persamaan 2"
   ]
  },
  {
   "cell_type": "code",
   "execution_count": 14,
   "metadata": {},
   "outputs": [
    {
     "data": {
      "text/latex": [
       "$\\displaystyle 8 x^{3} - x^{2} + 5 x - 1$"
      ],
      "text/plain": [
       "8*x**3 - x**2 + 5*x - 1"
      ]
     },
     "execution_count": 14,
     "metadata": {},
     "output_type": "execute_result"
    }
   ],
   "source": [
    "y1 = 8*x**3 - x**2 + 5*x - 1\n",
    "y1"
   ]
  },
  {
   "cell_type": "code",
   "execution_count": 15,
   "metadata": {},
   "outputs": [
    {
     "data": {
      "text/latex": [
       "$\\displaystyle 2 x^{4} - \\frac{x^{3}}{3} + \\frac{5 x^{2}}{2} - x$"
      ],
      "text/plain": [
       "2*x**4 - x**3/3 + 5*x**2/2 - x"
      ]
     },
     "execution_count": 15,
     "metadata": {},
     "output_type": "execute_result"
    }
   ],
   "source": [
    "sy.integrate(y1)\n"
   ]
  },
  {
   "cell_type": "code",
   "execution_count": 16,
   "metadata": {},
   "outputs": [
    {
     "data": {
      "text/plain": [
       "136536954.16666666"
      ]
     },
     "execution_count": 16,
     "metadata": {},
     "output_type": "execute_result"
    }
   ],
   "source": [
    "def integral_y (x):\n",
    "    return 2*x**4 - (1/3)*x**3 + (5/2)*x**2 - 1*x\n",
    "\n",
    "integral_y(100) - integral_y(75)"
   ]
  },
  {
   "cell_type": "markdown",
   "metadata": {},
   "source": [
    "Numerik"
   ]
  },
  {
   "cell_type": "markdown",
   "metadata": {},
   "source": [
    "Persamaan 1"
   ]
  },
  {
   "cell_type": "code",
   "execution_count": 18,
   "metadata": {},
   "outputs": [],
   "source": [
    "from scipy import integrate"
   ]
  },
  {
   "cell_type": "code",
   "execution_count": 21,
   "metadata": {},
   "outputs": [
    {
     "name": "stdout",
     "output_type": "stream",
     "text": [
      "(32593.249999999993, 3.6185776597363873e-10)\n"
     ]
    }
   ],
   "source": [
    "def f(x):\n",
    "   return x**3 - 3*x**2 + 3*x\n",
    "\n",
    "\n",
    "Z = integrate.quad(f,3,20)\n",
    "print(Z)"
   ]
  },
  {
   "cell_type": "markdown",
   "metadata": {},
   "source": [
    "Hasilnya 32593,25 dan eror 3.6e-10"
   ]
  },
  {
   "cell_type": "code",
   "execution_count": 23,
   "metadata": {},
   "outputs": [
    {
     "data": {
      "text/plain": [
       "32603.99271137026"
      ]
     },
     "execution_count": 23,
     "metadata": {},
     "output_type": "execute_result"
    }
   ],
   "source": [
    "def f(x):\n",
    "   return x**3 - 3*x**2 + 3*x\n",
    "\n",
    "x = np.linspace(3,20)\n",
    "y = f(x)\n",
    "\n",
    "A = integrate.trapz(y,x)\n",
    "A"
   ]
  },
  {
   "cell_type": "code",
   "execution_count": 24,
   "metadata": {},
   "outputs": [
    {
     "data": {
      "text/plain": [
       "array([ 3.        ,  3.34693878,  3.69387755,  4.04081633,  4.3877551 ,\n",
       "        4.73469388,  5.08163265,  5.42857143,  5.7755102 ,  6.12244898,\n",
       "        6.46938776,  6.81632653,  7.16326531,  7.51020408,  7.85714286,\n",
       "        8.20408163,  8.55102041,  8.89795918,  9.24489796,  9.59183673,\n",
       "        9.93877551, 10.28571429, 10.63265306, 10.97959184, 11.32653061,\n",
       "       11.67346939, 12.02040816, 12.36734694, 12.71428571, 13.06122449,\n",
       "       13.40816327, 13.75510204, 14.10204082, 14.44897959, 14.79591837,\n",
       "       15.14285714, 15.48979592, 15.83673469, 16.18367347, 16.53061224,\n",
       "       16.87755102, 17.2244898 , 17.57142857, 17.91836735, 18.26530612,\n",
       "       18.6122449 , 18.95918367, 19.30612245, 19.65306122, 20.        ])"
      ]
     },
     "execution_count": 24,
     "metadata": {},
     "output_type": "execute_result"
    }
   ],
   "source": [
    "x"
   ]
  },
  {
   "cell_type": "code",
   "execution_count": 25,
   "metadata": {},
   "outputs": [
    {
     "data": {
      "text/plain": [
       "array([   9.        ,   13.9272242 ,   20.54940543,   29.11710257,\n",
       "         39.88087447,   53.09127999,   68.99887802,   87.85422741,\n",
       "        109.90788702,  135.41041573,  164.6123724 ,  197.76431589,\n",
       "        235.11680507,  276.92039881,  323.42565598,  374.88313543,\n",
       "        431.54339603,  493.65699666,  561.47449617,  635.24645343,\n",
       "        715.22342731,  801.65597668,  894.79466039,  994.89003731,\n",
       "       1102.19266632, 1216.95310627, 1339.42191604, 1469.84965448,\n",
       "       1608.48688047, 1755.58415286, 1911.39203053, 2076.16107234,\n",
       "       2250.14183716, 2433.58488385, 2626.74077128, 2829.86005831,\n",
       "       3043.19330381, 3266.99106665, 3501.50390569, 3746.98237979,\n",
       "       4003.67704783, 4271.83846867, 4551.71720117, 4843.5638042 ,\n",
       "       5147.62883662, 5464.16285731, 5793.41642513, 6135.64009894,\n",
       "       6491.08443761, 6860.        ])"
      ]
     },
     "execution_count": 25,
     "metadata": {},
     "output_type": "execute_result"
    }
   ],
   "source": [
    "y"
   ]
  },
  {
   "cell_type": "markdown",
   "metadata": {},
   "source": [
    "Persamaan 2"
   ]
  },
  {
   "cell_type": "code",
   "execution_count": 27,
   "metadata": {},
   "outputs": [
    {
     "name": "stdout",
     "output_type": "stream",
     "text": [
      "(769405.8333333333, 8.542120714475724e-09)\n"
     ]
    }
   ],
   "source": [
    "def f2(x):\n",
    "   return 8*x**3 - x**2 + 5*x - 1\n",
    "\n",
    "\n",
    "P = integrate.quad(f2,8,25)\n",
    "print(P)"
   ]
  },
  {
   "cell_type": "markdown",
   "metadata": {},
   "source": [
    "Hasilnya 769505,83 dan eror 8.542e-9"
   ]
  },
  {
   "cell_type": "code",
   "execution_count": 29,
   "metadata": {},
   "outputs": [
    {
     "data": {
      "text/plain": [
       "32603.99271137026"
      ]
     },
     "execution_count": 29,
     "metadata": {},
     "output_type": "execute_result"
    }
   ],
   "source": [
    "def f2(x):\n",
    "   return x**3 - 3*x**2 + 3*x\n",
    "\n",
    "x = np.linspace(3,20)\n",
    "y = f2(x)\n",
    "\n",
    "K = integrate.trapz(y,x)\n",
    "K"
   ]
  },
  {
   "cell_type": "code",
   "execution_count": 30,
   "metadata": {},
   "outputs": [
    {
     "data": {
      "text/plain": [
       "array([ 3.        ,  3.34693878,  3.69387755,  4.04081633,  4.3877551 ,\n",
       "        4.73469388,  5.08163265,  5.42857143,  5.7755102 ,  6.12244898,\n",
       "        6.46938776,  6.81632653,  7.16326531,  7.51020408,  7.85714286,\n",
       "        8.20408163,  8.55102041,  8.89795918,  9.24489796,  9.59183673,\n",
       "        9.93877551, 10.28571429, 10.63265306, 10.97959184, 11.32653061,\n",
       "       11.67346939, 12.02040816, 12.36734694, 12.71428571, 13.06122449,\n",
       "       13.40816327, 13.75510204, 14.10204082, 14.44897959, 14.79591837,\n",
       "       15.14285714, 15.48979592, 15.83673469, 16.18367347, 16.53061224,\n",
       "       16.87755102, 17.2244898 , 17.57142857, 17.91836735, 18.26530612,\n",
       "       18.6122449 , 18.95918367, 19.30612245, 19.65306122, 20.        ])"
      ]
     },
     "execution_count": 30,
     "metadata": {},
     "output_type": "execute_result"
    }
   ],
   "source": [
    "x"
   ]
  },
  {
   "cell_type": "code",
   "execution_count": 31,
   "metadata": {},
   "outputs": [
    {
     "data": {
      "text/plain": [
       "array([   9.        ,   13.9272242 ,   20.54940543,   29.11710257,\n",
       "         39.88087447,   53.09127999,   68.99887802,   87.85422741,\n",
       "        109.90788702,  135.41041573,  164.6123724 ,  197.76431589,\n",
       "        235.11680507,  276.92039881,  323.42565598,  374.88313543,\n",
       "        431.54339603,  493.65699666,  561.47449617,  635.24645343,\n",
       "        715.22342731,  801.65597668,  894.79466039,  994.89003731,\n",
       "       1102.19266632, 1216.95310627, 1339.42191604, 1469.84965448,\n",
       "       1608.48688047, 1755.58415286, 1911.39203053, 2076.16107234,\n",
       "       2250.14183716, 2433.58488385, 2626.74077128, 2829.86005831,\n",
       "       3043.19330381, 3266.99106665, 3501.50390569, 3746.98237979,\n",
       "       4003.67704783, 4271.83846867, 4551.71720117, 4843.5638042 ,\n",
       "       5147.62883662, 5464.16285731, 5793.41642513, 6135.64009894,\n",
       "       6491.08443761, 6860.        ])"
      ]
     },
     "execution_count": 31,
     "metadata": {},
     "output_type": "execute_result"
    }
   ],
   "source": [
    "y"
   ]
  }
 ],
 "metadata": {
  "interpreter": {
   "hash": "20d1ef5a075b4d0ca0c52680c1ede7f7065df3b6cb3b68fe22fc0953e1b3861b"
  },
  "kernelspec": {
   "display_name": "Python 3.9.7 ('base')",
   "language": "python",
   "name": "python3"
  },
  "language_info": {
   "codemirror_mode": {
    "name": "ipython",
    "version": 3
   },
   "file_extension": ".py",
   "mimetype": "text/x-python",
   "name": "python",
   "nbconvert_exporter": "python",
   "pygments_lexer": "ipython3",
   "version": "3.9.7"
  },
  "orig_nbformat": 4
 },
 "nbformat": 4,
 "nbformat_minor": 2
}
