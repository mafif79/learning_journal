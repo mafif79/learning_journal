{
 "cells": [
  {
   "cell_type": "markdown",
   "metadata": {},
   "source": [
    "Ungradded Challenge 7"
   ]
  },
  {
   "cell_type": "code",
   "execution_count": 1,
   "metadata": {},
   "outputs": [],
   "source": [
    "import numpy as np"
   ]
  },
  {
   "cell_type": "code",
   "execution_count": 2,
   "metadata": {},
   "outputs": [],
   "source": [
    "import sympy as sy"
   ]
  },
  {
   "cell_type": "markdown",
   "metadata": {},
   "source": [
    "Simbolik"
   ]
  },
  {
   "cell_type": "code",
   "execution_count": 5,
   "metadata": {},
   "outputs": [
    {
     "data": {
      "text/latex": [
       "$\\displaystyle 3 x + 4 y - 5$"
      ],
      "text/plain": [
       "3*x + 4*y - 5"
      ]
     },
     "execution_count": 5,
     "metadata": {},
     "output_type": "execute_result"
    }
   ],
   "source": [
    "x,y,z =sy.symbols('x y z')\n",
    "f = 3*x  + 4*y - 5\n",
    "f"
   ]
  },
  {
   "cell_type": "code",
   "execution_count": 6,
   "metadata": {},
   "outputs": [],
   "source": [
    "x=sy.Symbol('x')\n",
    "y=sy.Symbol('y')\n",
    "z=sy.Symbol('z')"
   ]
  },
  {
   "cell_type": "markdown",
   "metadata": {},
   "source": [
    "Mencari Gradien"
   ]
  },
  {
   "cell_type": "code",
   "execution_count": 7,
   "metadata": {},
   "outputs": [],
   "source": [
    "from sympy.tensor.array import derive_by_array"
   ]
  },
  {
   "cell_type": "code",
   "execution_count": 9,
   "metadata": {},
   "outputs": [
    {
     "data": {
      "text/latex": [
       "$\\displaystyle \\left[\\begin{matrix}3 & 4\\end{matrix}\\right]$"
      ],
      "text/plain": [
       "[3, 4]"
      ]
     },
     "execution_count": 9,
     "metadata": {},
     "output_type": "execute_result"
    }
   ],
   "source": [
    "gradien = derive_by_array(f,(x,y))\n",
    "gradien"
   ]
  },
  {
   "cell_type": "code",
   "execution_count": 11,
   "metadata": {},
   "outputs": [
    {
     "data": {
      "text/plain": [
       "sympy.tensor.array.dense_ndim_array.ImmutableDenseNDimArray"
      ]
     },
     "execution_count": 11,
     "metadata": {},
     "output_type": "execute_result"
    }
   ],
   "source": [
    "type(gradien)"
   ]
  },
  {
   "cell_type": "markdown",
   "metadata": {},
   "source": [
    "Jacobian"
   ]
  },
  {
   "cell_type": "code",
   "execution_count": 10,
   "metadata": {},
   "outputs": [
    {
     "data": {
      "text/latex": [
       "$\\displaystyle \\left[\\begin{matrix}3\\\\4\\end{matrix}\\right]$"
      ],
      "text/plain": [
       "Matrix([\n",
       "[3],\n",
       "[4]])"
      ]
     },
     "execution_count": 10,
     "metadata": {},
     "output_type": "execute_result"
    }
   ],
   "source": [
    "sy.Matrix(gradien)"
   ]
  },
  {
   "cell_type": "code",
   "execution_count": 12,
   "metadata": {},
   "outputs": [
    {
     "data": {
      "text/latex": [
       "$\\displaystyle \\left[\\begin{matrix}0 & 0\\\\0 & 0\\end{matrix}\\right]$"
      ],
      "text/plain": [
       "Matrix([\n",
       "[0, 0],\n",
       "[0, 0]])"
      ]
     },
     "execution_count": 12,
     "metadata": {},
     "output_type": "execute_result"
    }
   ],
   "source": [
    "sy.Matrix(gradien).jacobian(sy.Matrix([x,y]))"
   ]
  },
  {
   "cell_type": "markdown",
   "metadata": {},
   "source": [
    "Hessian"
   ]
  },
  {
   "cell_type": "code",
   "execution_count": 13,
   "metadata": {},
   "outputs": [
    {
     "data": {
      "text/latex": [
       "$\\displaystyle \\left[\\begin{matrix}0 & 0\\\\0 & 0\\end{matrix}\\right]$"
      ],
      "text/plain": [
       "Matrix([\n",
       "[0, 0],\n",
       "[0, 0]])"
      ]
     },
     "execution_count": 13,
     "metadata": {},
     "output_type": "execute_result"
    }
   ],
   "source": [
    "sy.hessian(f,(x,y))"
   ]
  },
  {
   "cell_type": "markdown",
   "metadata": {},
   "source": [
    "Numerik"
   ]
  },
  {
   "cell_type": "code",
   "execution_count": 25,
   "metadata": {},
   "outputs": [],
   "source": [
    "def f(x,y):\n",
    "    return  3*x  + 4*y - 5\n",
    "\n",
    "x =np.linspace(1,100)\n",
    "y =np.linspace(1,100)\n",
    "\n",
    "z=np.array([[f(i,j) for i in x]for j in y])\n",
    "\n",
    "dx,dy=np.gradient(z)"
   ]
  },
  {
   "cell_type": "code",
   "execution_count": 26,
   "metadata": {},
   "outputs": [
    {
     "data": {
      "text/plain": [
       "array([[8.08163265, 8.08163265, 8.08163265, ..., 8.08163265, 8.08163265,\n",
       "        8.08163265],\n",
       "       [8.08163265, 8.08163265, 8.08163265, ..., 8.08163265, 8.08163265,\n",
       "        8.08163265],\n",
       "       [8.08163265, 8.08163265, 8.08163265, ..., 8.08163265, 8.08163265,\n",
       "        8.08163265],\n",
       "       ...,\n",
       "       [8.08163265, 8.08163265, 8.08163265, ..., 8.08163265, 8.08163265,\n",
       "        8.08163265],\n",
       "       [8.08163265, 8.08163265, 8.08163265, ..., 8.08163265, 8.08163265,\n",
       "        8.08163265],\n",
       "       [8.08163265, 8.08163265, 8.08163265, ..., 8.08163265, 8.08163265,\n",
       "        8.08163265]])"
      ]
     },
     "execution_count": 26,
     "metadata": {},
     "output_type": "execute_result"
    }
   ],
   "source": [
    "dx"
   ]
  },
  {
   "cell_type": "code",
   "execution_count": 27,
   "metadata": {},
   "outputs": [
    {
     "data": {
      "text/plain": [
       "array([[6.06122449, 6.06122449, 6.06122449, ..., 6.06122449, 6.06122449,\n",
       "        6.06122449],\n",
       "       [6.06122449, 6.06122449, 6.06122449, ..., 6.06122449, 6.06122449,\n",
       "        6.06122449],\n",
       "       [6.06122449, 6.06122449, 6.06122449, ..., 6.06122449, 6.06122449,\n",
       "        6.06122449],\n",
       "       ...,\n",
       "       [6.06122449, 6.06122449, 6.06122449, ..., 6.06122449, 6.06122449,\n",
       "        6.06122449],\n",
       "       [6.06122449, 6.06122449, 6.06122449, ..., 6.06122449, 6.06122449,\n",
       "        6.06122449],\n",
       "       [6.06122449, 6.06122449, 6.06122449, ..., 6.06122449, 6.06122449,\n",
       "        6.06122449]])"
      ]
     },
     "execution_count": 27,
     "metadata": {},
     "output_type": "execute_result"
    }
   ],
   "source": [
    "dy"
   ]
  },
  {
   "cell_type": "code",
   "execution_count": 28,
   "metadata": {},
   "outputs": [
    {
     "data": {
      "text/plain": [
       "array([[  2.        ,   8.06122449,  14.12244898, ..., 286.87755102,\n",
       "        292.93877551, 299.        ],\n",
       "       [ 10.08163265,  16.14285714,  22.20408163, ..., 294.95918367,\n",
       "        301.02040816, 307.08163265],\n",
       "       [ 18.16326531,  24.2244898 ,  30.28571429, ..., 303.04081633,\n",
       "        309.10204082, 315.16326531],\n",
       "       ...,\n",
       "       [381.83673469, 387.89795918, 393.95918367, ..., 666.71428571,\n",
       "        672.7755102 , 678.83673469],\n",
       "       [389.91836735, 395.97959184, 402.04081633, ..., 674.79591837,\n",
       "        680.85714286, 686.91836735],\n",
       "       [398.        , 404.06122449, 410.12244898, ..., 682.87755102,\n",
       "        688.93877551, 695.        ]])"
      ]
     },
     "execution_count": 28,
     "metadata": {},
     "output_type": "execute_result"
    }
   ],
   "source": [
    "z"
   ]
  },
  {
   "cell_type": "code",
   "execution_count": 29,
   "metadata": {},
   "outputs": [
    {
     "data": {
      "text/plain": [
       "Text(0.5, 1.0, 'dy')"
      ]
     },
     "execution_count": 29,
     "metadata": {},
     "output_type": "execute_result"
    },
    {
     "data": {
      "image/png": "[encoded data removed]",
      "text/plain": [
       "<Figure size 1224x360 with 3 Axes>"
      ]
     },
     "metadata": {
      "needs_background": "light"
     },
     "output_type": "display_data"
    }
   ],
   "source": [
    "import matplotlib.pyplot as plt\n",
    "fig, ax = plt.subplots(ncols=3,figsize=(17,5))\n",
    "ax[0].imshow(z)\n",
    "ax[0].set_title('f(x,y)')\n",
    "ax[1].imshow(dx)\n",
    "ax[1].set_title('dx')\n",
    "ax[2].imshow(dy)\n",
    "ax[2].set_title('dy')"
   ]
  }
 ],
 "metadata": {
  "interpreter": {
   "hash": "20d1ef5a075b4d0ca0c52680c1ede7f7065df3b6cb3b68fe22fc0953e1b3861b"
  },
  "kernelspec": {
   "display_name": "Python 3.9.7 ('base')",
   "language": "python",
   "name": "python3"
  },
  "language_info": {
   "codemirror_mode": {
    "name": "ipython",
    "version": 3
   },
   "file_extension": ".py",
   "mimetype": "text/x-python",
   "name": "python",
   "nbconvert_exporter": "python",
   "pygments_lexer": "ipython3",
   "version": "3.9.7"
  },
  "orig_nbformat": 4
 },
 "nbformat": 4,
 "nbformat_minor": 2
}
