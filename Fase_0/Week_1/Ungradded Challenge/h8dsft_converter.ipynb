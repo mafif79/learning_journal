{
 "cells": [
  {
   "cell_type": "markdown",
   "metadata": {},
   "source": [
    "# Non Graded Challenge 2"
   ]
  },
  {
   "cell_type": "code",
   "execution_count": null,
   "metadata": {},
   "outputs": [],
   "source": [
    "# Buatlah sebuah function yang dapat mengkonversi suhu dari kelvin ke celcius, dan celcius ke kelvin.\n",
    "# Buatlah sebuah function yang dapat mengkonversi suhu ke fahrenheit. Tambahkan parameter untuk memastikan bahwa argumen yang dimasukan adalah celcius atau kelvin. Panggil function yang pertama jika diperlukan\n",
    "# Buatlah sebuah function yang dapat mengkonversi suhu dari fahrenheit. Berikan argumen untuk memastikan bahwa outputnya dalah celcius atau kelvin\n",
    "# Berikan dokumentasi pada setiap baris kode yang kalian tulis.\n"
   ]
  },
  {
   "cell_type": "code",
   "execution_count": null,
   "metadata": {},
   "outputs": [],
   "source": [
    "import numpy as np"
   ]
  },
  {
   "cell_type": "code",
   "execution_count": null,
   "metadata": {},
   "outputs": [],
   "source": [
    "#Buatlah sebuah function yang dapat mengkonversi suhu dari kelvin ke celcius, dan celcius ke kelvin."
   ]
  },
  {
   "cell_type": "code",
   "execution_count": 5,
   "metadata": {},
   "outputs": [],
   "source": [
    "def Luas(a,b, bangun_datar):\n",
    "  if bangun_datar == 'persegi panjang':\n",
    "    luas = a * b\n",
    "  elif bangun_datar == 'segitiga':\n",
    "    luas = 0.5 * a * b\n",
    "  return luas"
   ]
  },
  {
   "cell_type": "code",
   "execution_count": null,
   "metadata": {},
   "outputs": [],
   "source": [
    "bidang = input('Pilih bangun datar yang ingin dihitung (persegi panjang/segitiga)')\n",
    "panjang = int(input('Masukan sisi pertama (panjang/alas)'))\n",
    "lebar = int(input('Masukan sisi kedua (lebar/tinggi)'))\n",
    "\n",
    "Luas(panjang,lebar,bidang)"
   ]
  },
  {
   "cell_type": "code",
   "execution_count": 65,
   "metadata": {},
   "outputs": [],
   "source": [
    "#Function yang mengubah dari celsius ke kelvin dan kelvin ke celsius\n",
    "x = 273\n",
    "def temperatur(suhu, temp):\n",
    "    if temp == 'celsius':\n",
    "        Temperatur= suhu - x\n",
    "\n",
    "    elif temp == 'kelvin':\n",
    "        Temperatur= suhu + x\n",
    "    return Temperatur\n",
    "\n"
   ]
  },
  {
   "cell_type": "code",
   "execution_count": 67,
   "metadata": {},
   "outputs": [
    {
     "data": {
      "text/plain": [
       "27"
      ]
     },
     "execution_count": 67,
     "metadata": {},
     "output_type": "execute_result"
    }
   ],
   "source": [
    "#Mengubah kelvin ke celsius\n",
    "temperature = input('pilih jenis teperatur yang ingin dikonversi(celsius/kelvin)')\n",
    "celsius = int(input('Masukan suhu dalam kelvin'))\n",
    "temperatur(celsius,temperature)"
   ]
  },
  {
   "cell_type": "code",
   "execution_count": 68,
   "metadata": {},
   "outputs": [
    {
     "data": {
      "text/plain": [
       "283"
      ]
     },
     "execution_count": 68,
     "metadata": {},
     "output_type": "execute_result"
    }
   ],
   "source": [
    "#mengubah celsius ke kelvin\n",
    "temperature = input('pilih jenis teperatur yang ingin dikonversi(celsius/kelvin)')\n",
    "kelvin = int(input('Masukan suhu dalam celsius'))\n",
    "temperatur(kelvin,temperature)"
   ]
  },
  {
   "cell_type": "code",
   "execution_count": 78,
   "metadata": {},
   "outputs": [],
   "source": [
    "#Function yang mengubah dari celsius dan kelvin ke fahrenhait\n",
    "x = 273\n",
    "def fahrenhait(suhu_ke_fahrenhait, temp_fahrenhait):\n",
    "    if temp_fahrenhait == 'celsius_f':\n",
    "        Temperatur_fahrenhait= ((9 * suhu_ke_fahrenhait) / 5 + 32)\n",
    "\n",
    "    elif temp_fahrenhait == 'kelvin_f':\n",
    "        Temperatur_fahrenhait= (1.8*(suhu_ke_fahrenhait-273)) + 32\n",
    "    return Temperatur_fahrenhait\n"
   ]
  },
  {
   "cell_type": "code",
   "execution_count": 89,
   "metadata": {},
   "outputs": [
    {
     "data": {
      "text/plain": [
       "100.4"
      ]
     },
     "execution_count": 89,
     "metadata": {},
     "output_type": "execute_result"
    }
   ],
   "source": [
    "#Mengubah celsius ke fahrenhait\n",
    "temperature_fahrenhait = input('pilih jenis teperatur yang ingin dikonversi ke fahrenhait(celsius_f/kelvin_f)')\n",
    "celsius_f = int(input('Masukan suhu dalam celsius'))\n",
    "fahrenhait(celsius_f,temperature_fahrenhait)"
   ]
  },
  {
   "cell_type": "code",
   "execution_count": 79,
   "metadata": {},
   "outputs": [
    {
     "data": {
      "text/plain": [
       "80.6"
      ]
     },
     "execution_count": 79,
     "metadata": {},
     "output_type": "execute_result"
    }
   ],
   "source": [
    "#Mengubah Kelvin ke fahrenhait\n",
    "temperature_fahrenhait = input('pilih jenis teperatur yang ingin dikonversi ke fahrenhait(celsius_f/kelvin_f)')\n",
    "kelvin_f = int(input('Masukan suhu dalam kelvin'))\n",
    "fahrenhait(kelvin_f,temperature_fahrenhait)"
   ]
  },
  {
   "cell_type": "code",
   "execution_count": 85,
   "metadata": {},
   "outputs": [],
   "source": [
    "\n",
    "#Function yang mengubah dari Fahrenhait ke Celsius dan Kelvin\n",
    "x = 273\n",
    "def temperature_from_fahrenhait(suhu_dari_fahrenhait, temp_dari_fahrenhait):\n",
    "    if temp_dari_fahrenhait == 'celsius_dari_f':\n",
    "        Temperatur_dari_fahrenhait= ((suhu_dari_fahrenhait - 32) * 5 / 9)\n",
    "\n",
    "    elif temp_dari_fahrenhait == 'kelvin_dari_f':\n",
    "        Temperatur_dari_fahrenhait=  ((0.555 * suhu_dari_fahrenhait) + 459.67)\n",
    "    return Temperatur_dari_fahrenhait\n"
   ]
  },
  {
   "cell_type": "code",
   "execution_count": 86,
   "metadata": {},
   "outputs": [
    {
     "data": {
      "text/plain": [
       "37.77777777777778"
      ]
     },
     "execution_count": 86,
     "metadata": {},
     "output_type": "execute_result"
    }
   ],
   "source": [
    "\n",
    "#Mengubah fahrenhait ke celsius\n",
    "temperature_dari_fahrenhait = input('pilih jenis teperatur yang ingin dikonversi dari fahrenhait(celsius_dari_f/kelvin_dari_f)')\n",
    "celsius_dari_f= int(input('Masukan suhu dalam fahrenhait'))\n",
    "temperature_from_fahrenhait(celsius_dari_f,temperature_dari_fahrenhait)\n"
   ]
  },
  {
   "cell_type": "code",
   "execution_count": 88,
   "metadata": {},
   "outputs": [
    {
     "data": {
      "text/plain": [
       "491.305"
      ]
     },
     "execution_count": 88,
     "metadata": {},
     "output_type": "execute_result"
    }
   ],
   "source": [
    "\n",
    "#Mengubah fahrenhait ke kelvin\n",
    "temperature_dari_fahrenhait = input('pilih jenis teperatur yang ingin dikonversi dari fahrenhait(celsius_dari_f/kelvin_dari_f)')\n",
    "kelvin_dari_f= int(input('Masukan suhu dalam fahrenhait'))\n",
    "temperature_from_fahrenhait(kelvin_dari_f,temperature_dari_fahrenhait)"
   ]
  }
 ],
 "metadata": {
  "interpreter": {
   "hash": "eb3224cf46f1f2883013ca6576c881ca97fafeff9e390defea098bf29512bff1"
  },
  "kernelspec": {
   "display_name": "Python 3.10.2 64-bit",
   "language": "python",
   "name": "python3"
  },
  "language_info": {
   "codemirror_mode": {
    "name": "ipython",
    "version": 3
   },
   "file_extension": ".py",
   "mimetype": "text/x-python",
   "name": "python",
   "nbconvert_exporter": "python",
   "pygments_lexer": "ipython3",
   "version": "3.9.7"
  },
  "orig_nbformat": 4
 },
 "nbformat": 4,
 "nbformat_minor": 2
}
